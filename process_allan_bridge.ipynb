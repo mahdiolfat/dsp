{
 "cells": [
  {
   "cell_type": "code",
   "execution_count": 1,
   "metadata": {},
   "outputs": [],
   "source": [
    "import numpy as np\n",
    "import pandas as pd"
   ]
  },
  {
   "cell_type": "code",
   "execution_count": 2,
   "metadata": {},
   "outputs": [],
   "source": [
    "data = pd.read_csv(\"C:\\\\Users\\\\mahdi\\\\Desktop\\\\bridge\\\\noise\\\\analog.csv\")"
   ]
  },
  {
   "cell_type": "code",
   "execution_count": 3,
   "metadata": {},
   "outputs": [],
   "source": [
    "datatime = np.ravel(data[[\"Time [s]\"]].to_numpy())\n",
    "bridge_ac = np.ravel(data[[\"Bridge-in\"]].to_numpy())\n",
    "bridge_ac.shape\n",
    "bridge_ac -= np.mean(bridge_ac)"
   ]
  },
  {
   "cell_type": "code",
   "execution_count": 4,
   "metadata": {},
   "outputs": [
    {
     "name": "stdout",
     "output_type": "stream",
     "text": [
      "sampling_period=0.02 s\n",
      "sampling rate=50.0 Hz\n"
     ]
    },
    {
     "data": {
      "text/plain": [
       "6005"
      ]
     },
     "execution_count": 4,
     "metadata": {},
     "output_type": "execute_result"
    }
   ],
   "source": [
    "sampling_rate = np.mean(np.ediff1d(datatime))\n",
    "print(f'sampling_period={sampling_rate} s')\n",
    "fs = 1 / sampling_rate\n",
    "print(f'sampling rate={fs} Hz')\n",
    "len(bridge_ac)"
   ]
  },
  {
   "cell_type": "code",
   "execution_count": 5,
   "metadata": {},
   "outputs": [
    {
     "name": "stdout",
     "output_type": "stream",
     "text": [
      "100000.00000000001\n",
      "(1e-06, 0.0001)\n"
     ]
    }
   ],
   "source": [
    "# in seconds\n",
    "observing_interval = (10**4, 10**6)\n",
    "observing_band = (1 / observing_interval[1], 1 / observing_interval[0])\n",
    "observing_interval = np.exp(np.log(observing_interval).mean())\n",
    "print(observing_interval)\n",
    "print(observing_band)\n",
    "#sample_period = \n",
    "sample_rate = 1/10**6"
   ]
  },
  {
   "cell_type": "code",
   "execution_count": 6,
   "metadata": {},
   "outputs": [
    {
     "data": {
      "text/plain": [
       "array([ 4.62114904e-05,  9.24229808e-05,  3.86344713e-05, ...,\n",
       "       -9.24229809e-05, -4.62114904e-05, -1.44412260e-15])"
      ]
     },
     "execution_count": 6,
     "metadata": {},
     "output_type": "execute_result"
    }
   ],
   "source": [
    "t0 = sampling_rate\n",
    "sense = np.cumsum(bridge_ac)*t0\n",
    "sense"
   ]
  },
  {
   "cell_type": "code",
   "execution_count": 7,
   "metadata": {},
   "outputs": [
    {
     "data": {
      "text/plain": [
       "2048.0"
      ]
     },
     "execution_count": 7,
     "metadata": {},
     "output_type": "execute_result"
    }
   ],
   "source": [
    "maxNumM = 100\n",
    "L = len(sense)\n",
    "maxM = 2**np.floor(np.log2(L/2))\n",
    "maxM"
   ]
  },
  {
   "cell_type": "code",
   "execution_count": 8,
   "metadata": {},
   "outputs": [
    {
     "data": {
      "text/plain": [
       "79"
      ]
     },
     "execution_count": 8,
     "metadata": {},
     "output_type": "execute_result"
    }
   ],
   "source": [
    "m = np.logspace(np.log10(1), np.log10(maxM), maxNumM)\n",
    "m = np.ceil(m)\n",
    "m = np.unique(m)\n",
    "m.size"
   ]
  },
  {
   "cell_type": "code",
   "execution_count": 9,
   "metadata": {},
   "outputs": [],
   "source": [
    "tau = m * t0\n",
    "\n",
    "allanvar = np.zeros(m.size)\n",
    "for i in range(m.size):\n",
    "\tmi = int(m[i])\n",
    "\tallanvar[i] = np.sum((sense[2*mi:L]- 2*sense[mi:L-mi] + sense[:L-2*mi])**2)\n",
    "\n",
    "allanvar /= (2*tau**2 * (L-2*m))\n",
    "adev = np.sqrt(allanvar)"
   ]
  },
  {
   "cell_type": "code",
   "execution_count": 10,
   "metadata": {},
   "outputs": [
    {
     "data": {
      "image/png": "[encoded data removed]",
      "text/plain": [
       "<Figure size 432x288 with 1 Axes>"
      ]
     },
     "metadata": {
      "needs_background": "light"
     },
     "output_type": "display_data"
    }
   ],
   "source": [
    "import matplotlib.pyplot as plt\n",
    "\n",
    "plt.loglog(tau, adev)\n",
    "plt.grid()"
   ]
  },
  {
   "cell_type": "markdown",
   "metadata": {},
   "source": [
    "White noise spectrum\n",
    "\n",
    "\\begin{equation}\n",
    "S_A(f) = N^2\n",
    "\\end{equation}\n",
    "\n",
    "\\begin{equation}\n",
    "\\sigma^2(\\tau) = \\frac{N^2}{\\tau}\n",
    "\\end{equation}"
   ]
  },
  {
   "cell_type": "code",
   "execution_count": 11,
   "metadata": {},
   "outputs": [],
   "source": [
    "# find the index where the slope of the log-scaled Allan deviation is equal to the slope specified\n",
    "slope = -1/2\n",
    "logtau = np.log10(tau)\n",
    "logadev = np.log10(adev)\n",
    "dlogadev = np.diff(logadev) / np.diff(logtau)\n",
    "idx = np.argmin(np.abs(dlogadev - slope))\n",
    "\n",
    "# find the y intercept of the line\n",
    "b = logadev[idx] - slope*logtau[idx]\n",
    "logN = slope*np.log10(1) + b\n",
    "N = 10**logN\n",
    "\n",
    "tauN = 1\n",
    "lineN = N / np.sqrt(tau)"
   ]
  },
  {
   "cell_type": "markdown",
   "metadata": {},
   "source": [
    "Red noise (brownian noise) spectrum\n",
    "\n",
    "\\begin{equation}\n",
    "S_A(f) = (\\frac{K}{2\\pi})^2\\frac{1}{f^2}\n",
    "\\end{equation}\n",
    "\n",
    "\\begin{equation}\n",
    "\\sigma^2(\\tau) = \\frac{K^2\\tau}{3}\n",
    "\\end{equation}"
   ]
  },
  {
   "cell_type": "code",
   "execution_count": 12,
   "metadata": {},
   "outputs": [],
   "source": [
    "slope = 0.5\n",
    "idx = np.argmin(np.abs(dlogadev - slope))\n",
    "b = logadev[idx] - slope*logtau[idx]\n",
    "\n",
    "logK = slope*np.log10(3) + b\n",
    "K = 10**logK\n",
    "lineK = K * np.sqrt(tau / 3)"
   ]
  },
  {
   "cell_type": "markdown",
   "metadata": {},
   "source": [
    "Bias instability due to pink noise (flickr noise) spectrum\n",
    "\n",
    "\\begin{equation}\n",
    "S_A(f)=(\\frac{B^2}{2\\pi})\\frac{1}{f}\n",
    "\\end{equation}\n",
    "\n",
    "\\begin{equation}\n",
    "\\sigma^2(\\tau) = \\frac{2B^2}{\\pi}[ln{2} -\\frac{\\sin{x}^2}{2x^2}(\\sin{x}+4x\\cos{x})+Ci(2x)-Ci(4x)]\n",
    "\\end{equation}\n",
    "\n",
    "$ Ci $ is the cosine integration function and $x = 2\\pi f_0 \\tau$"
   ]
  },
  {
   "cell_type": "code",
   "execution_count": 16,
   "metadata": {},
   "outputs": [
    {
     "data": {
      "image/png": "[encoded data removed]",
      "text/plain": [
       "<Figure size 432x288 with 1 Axes>"
      ]
     },
     "metadata": {
      "needs_background": "light"
     },
     "output_type": "display_data"
    }
   ],
   "source": [
    "slope = 0.0\n",
    "idx = np.argmin(np.abs(dlogadev[dlogadev.size * 3 // 4:-5] - slope))\n",
    "idx += dlogadev.size * 3 // 4\n",
    "b = logadev[idx] - slope*logtau[idx]\n",
    "\n",
    "scfB = np.sqrt(2 * np.log(2) / np.pi)\n",
    "logB = b - np.log10(scfB)\n",
    "B = 10**logB\n",
    "lineB = B * scfB * np.ones(tau.size)\n",
    "\n",
    "plt.loglog(tau, lineN, '--', color='g')\n",
    "plt.loglog(tau, lineK, '.', color='r')\n",
    "plt.loglog(tau, lineB, '-', color='m')\n",
    "plt.loglog(tau, adev, color='b')\n",
    "plt.grid()\n"
   ]
  },
  {
   "cell_type": "code",
   "execution_count": 14,
   "metadata": {},
   "outputs": [
    {
     "data": {
      "text/plain": [
       "(0.0003453489004621177, 4.621697716225145e-05, 0.00026474617103199526)"
      ]
     },
     "execution_count": 14,
     "metadata": {},
     "output_type": "execute_result"
    }
   ],
   "source": [
    "N, K, B"
   ]
  }
 ],
 "metadata": {
  "interpreter": {
   "hash": "9887f6c7be016c00437bb31ecb0e171117dcb397ce4e86ba8c87f524ffd9fd3a"
  },
  "kernelspec": {
   "display_name": "Python 3.9.5 64-bit",
   "language": "python",
   "name": "python3"
  },
  "language_info": {
   "codemirror_mode": {
    "name": "ipython",
    "version": 3
   },
   "file_extension": ".py",
   "mimetype": "text/x-python",
   "name": "python",
   "nbconvert_exporter": "python",
   "pygments_lexer": "ipython3",
   "version": "3.9.5"
  },
  "orig_nbformat": 4
 },
 "nbformat": 4,
 "nbformat_minor": 2
}
