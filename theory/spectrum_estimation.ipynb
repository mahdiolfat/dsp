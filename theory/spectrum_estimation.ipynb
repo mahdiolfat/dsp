{
 "cells": [
  {
   "cell_type": "code",
   "execution_count": null,
   "metadata": {},
   "outputs": [],
   "source": [
    "import numpy as np"
   ]
  },
  {
   "cell_type": "markdown",
   "metadata": {},
   "source": [
    "\n",
    "# Spectrum Estimation\n",
    "\n",
    "## Non-parametric\n",
    "Periodogram, Smoothed Periodogram, Bartlett, Welch method, Minimum Variance\n",
    "\n",
    "Downside is that for stability lots of ensemble averaging is required. While this may result in a smooth, estimation has been biased.\n",
    "\n",
    "\n",
    "\n",
    "## Parametric\n",
    "\n",
    "*noise subspace method*\n",
    "MUSIC, Pisarenko, eigenvector, minimium norm (chebychev optimal)\n",
    "\n",
    "*signal subspace methods*\n",
    "Principle components\n",
    "\n",
    "## Implementations\n",
    "Minimum Variance\n",
    "Maximum Entropy\n",
    "\n",
    "MUSIC\n",
    "Minimum Norm\n"
   ]
  },
  {
   "cell_type": "markdown",
   "metadata": {},
   "source": [
    "For an autocorrelation ergodic process:\n",
    "\n",
    "$$\n",
    "\n",
    "\\lim\\limits_{n \\rightarrow \\infty}\n",
    "\\left\\lbrace\n",
    "\t\\frac{1}{2N + 1}\n",
    "\t\\sum_{n = -N}^N x(n + k)x^*(n)\n",
    "\\right\\rbrace\n",
    " = r_x(k)\n",
    "\n",
    "$$"
   ]
  },
  {
   "cell_type": "markdown",
   "metadata": {},
   "source": [
    "The Minimum Variance (MV) method is an adaptation of the Maximum Likelihood Method (MLM) for the analysis of two dimensional power spectral densities. Assume x(n) is a zero mean wide-sense stationary random process with a power spectrum $ P_x(e^{j \\omega}) $."
   ]
  },
  {
   "cell_type": "markdown",
   "metadata": {},
   "source": [
    "Let g_i(n) be an ideap bandpass filter with a bandwidth $ \\triangle $ and center frequency $ \\omega_i $. An ideal bandpass filter has a gain of 1 in the passband (over the bandwidth) and perfect suppression (gain of 0) outside of the band (in the stop-band). Because of this ideal structure, the transition width (gain roll off from passband to stopband) is infinitesimal, i.e., transition width = 0 rad.\n",
    "\n",
    "The magnitude (aboslute amplitude) response of the ideal bandpass filter is:\n",
    "$$\n",
    "\n",
    "|G_i(e^{j\\omega})| =\n",
    "\\begin{cases}\n",
    "\t1 & |\\omega - \\omega_i| < \\triangle / {2} \\\\\n",
    "\t0 & otherwise\n",
    "\\end{cases}\n",
    "\n",
    "$$\n",
    "\n",
    "At frequencies indexed by $ \\omega_i $, the constrain is for the response to have a gain of one at $ \\omega = \\omega_i $"
   ]
  },
  {
   "cell_type": "markdown",
   "metadata": {},
   "source": [
    "Let $ g_i $ be the vector of filter coefficients $ g_i(n) $."
   ]
  },
  {
   "cell_type": "markdown",
   "metadata": {},
   "source": [
    "## Definition of Bandwidth\n",
    "\n",
    "There is no unique definition. White noise equivalence captures power information and is often used.\n",
    "\n",
    "The estimate of power in x(n) at frequency $ \\omega $ is a constant, independend of the frequency $ \\omega $."
   ]
  },
  {
   "cell_type": "code",
   "execution_count": null,
   "metadata": {},
   "outputs": [],
   "source": []
  }
 ],
 "metadata": {
  "language_info": {
   "name": "python"
  },
  "orig_nbformat": 4
 },
 "nbformat": 4,
 "nbformat_minor": 2
}
