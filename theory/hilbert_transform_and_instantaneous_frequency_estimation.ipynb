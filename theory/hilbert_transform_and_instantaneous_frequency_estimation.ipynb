{
 "cells": [
  {
   "cell_type": "code",
   "execution_count": null,
   "metadata": {},
   "outputs": [],
   "source": [
    "import numpy as np\n",
    "import matplotlib.pyplot as plt"
   ]
  },
  {
   "cell_type": "markdown",
   "metadata": {},
   "source": [
    "## Fourier Symmetry of Real Signals\n"
   ]
  },
  {
   "cell_type": "markdown",
   "metadata": {},
   "source": [
    "In this investigation, we try to measure the \"instantaneous amplitude\" of a quasi-sinusoidal signal via the methods of *analytic signal processing*.\n"
   ]
  },
  {
   "cell_type": "markdown",
   "metadata": {},
   "source": [
    "## Frequency Response \n",
    "\n",
    "$$\n",
    "\\begin{equation}\n",
    "H(\\omega) = \\begin{cases}\n",
    "\tj, &\\omega < 0 \\\\\n",
    "\t0, &\\omega = 0 \\\\\n",
    "\t-j, &\\omega > 0\n",
    "\\end{cases}\n",
    "\\end{equation}\n",
    "$$"
   ]
  },
  {
   "cell_type": "markdown",
   "metadata": {},
   "source": [
    "## Hilbert Transform Kernel\n",
    "\n",
    "$$\n",
    "\\begin{equation}\n",
    "h(t) = \\frac{1}{\\pi t},\n",
    "t \\isin (-\\infin, \\infin)\n",
    "\\end{equation}\n",
    "$$"
   ]
  },
  {
   "cell_type": "markdown",
   "metadata": {},
   "source": [
    "The Hilber transform $ y(t) $ of a real, continuous-time signal $ x(t) $ may be expressed as the convolution of x with the Hilbert transform kernel.\n",
    "\n",
    "$$ \\begin{equation}\n",
    "y = h \\ast x\n",
    "\\end{equation} $$\n",
    "\n",
    "Hence, the Hilbert transform is a non-causal linear time-invariant filter.\n",
    "\n",
    "### Analytic Signal\n",
    "\n",
    "An \"analytics signal\" is defined as any signal $ x(n) $ having only positive or negative frequency components, but not both.\n",
    "The complex analytic signal $ x_a(t) $ corresponding to the real signal $ x(t) $ is:\n",
    "\n",
    "$$ \\begin{equation}\n",
    "\\begin{split}\n",
    "x_a(t) &\\triangleq x(t) + jy(t) \\\\\n",
    "&=\\frac{1}{\\pi}\\int_{0}^{\\infty}X(\\omega)e^{j \\omega t}d\\omega\n",
    "\\end{split}\n",
    "\\end{equation} $$"
   ]
  },
  {
   "cell_type": "markdown",
   "metadata": {},
   "source": [
    "$$ \\begin{equation}\n",
    "\\begin{align*}\n",
    "X_a&\\triangleq X(\\omega) + jY(\\omega) \\\\\n",
    "&\\triangleq (X_+ + X_-) + j(-jX_+ + j X_-) \\\\\n",
    "&=X_+ + X_- + X_+ - X_- \\\\\n",
    "&=2X_+(\\omega)\n",
    "\\end{align*}\n",
    "\\end{equation} $$"
   ]
  },
  {
   "cell_type": "markdown",
   "metadata": {},
   "source": [
    "## Ideal Discrete-Time Hilbert-Transform"
   ]
  },
  {
   "cell_type": "markdown",
   "metadata": {},
   "source": [
    "## Sinusoidal Modeling"
   ]
  },
  {
   "cell_type": "markdown",
   "metadata": {},
   "source": [
    "Instantaneous amplitude, phase, and frequency.\n",
    "\n",
    "$$\n",
    "x_c(t) = a_c(t) \\cos \\lbrace \\omega_c t + \\phi (t) \\rbrace\n",
    "$$\n",
    "\n",
    "$ a(t) $ and $ \\phi_c (t) $ are assumed to be slow varying in comparison to the center frequency, that is, $ a(t) $ and $ \\phi(t) $ are smooth over time steps $ \\gg $ $ 1 \\over 2 \\pi f_c $\n",
    "\n",
    "In general, when both amplitude and phase are needed, two real signal must be computed.\n",
    "\n",
    "In analytic signal processing, we generalize the sinusoidal signal mode to the real-part of the corresponding analytic signal.\n",
    "\n",
    "$$\n",
    "\\begin{equation}\n",
    "x_c(t) = a_c(t) \\cos \\lbrace \\omega_c t + \\phi_c (t) \\rbrace = \\text{re} \\left\\lbrace a_c(t)e^{j \\phi_c (t)} e^{j \\omega_c t} \\right\\rbrace \\triangleq \\text{re} \\left\\lbrace x_c^a(t) \\right\\rbrace\n",
    "\\end{equation}\n",
    "$$\n",
    "\n",
    "Finally, the two real signals corresponding to the instantaneous amplitude and instantaneous phase are:\n",
    "\n",
    "$$\n",
    "\\begin{equation}\n",
    "\\begin{split}\n",
    "\n",
    "a_c(t) &= |x_c^a(t)| \\\\\n",
    "\\phi_c(t) &= \\angle x_c^a(t) - \\omega_c t \\\\\n",
    "&= \\tan^{-1} \\left\\lbrack \\frac{\\text{im} \\left\\lbrace x_c^a(t) \\right\\rbrace}{\\text{re} \\left\\lbrace x_c^a(t) \\right\\rbrace} \\right\\rbrack - \\omega_c t\n",
    "\n",
    "\\end{split}\n",
    "\\end{equation}\n",
    "$$\n"
   ]
  },
  {
   "cell_type": "markdown",
   "metadata": {},
   "source": [
    "# Amplitude and Frequency Envelopes\n",
    "\n",
    "## Instantaneous frequency\n",
    "\n",
    "The instantaneous frequency is the time-derivative of the instantaneous phase:\n",
    "\n",
    "$$\n",
    "\\Delta \\omega_c (t) = \\dot{\\phi_c} (t) = \\frac{d}{dt} \\phi_c (t)\n",
    "$$\n",
    "\n",
    "The complex baseband signal representation of $ x_c^a (t) $ is written as $ x_c^b (t) $ and can be calculated by time-domain frequency modulation:\n",
    "\n",
    "$$\n",
    "x_c^b (t) = e^{-j \\omega_c} x_c^a (t)\n",
    "$$\n",
    "\n",
    "For simplicity, let $x(t) = \\text{RE} \\left\\lbrace x_c^b(t) \\right\\rbrace $ and $ y(t) = \\text{IM} \\left\\lbrace x_c^b(t) \\right\\rbrace $\n",
    "\n",
    "Then,\n",
    "\n",
    "$$\n",
    "\\Delta \\omega_c (t) = \\frac{d}{dt} \\phi_c (t) = \\frac{d}{dt} \\tan^{-1} (\\frac{y}{x}) = \\frac{\\frac{d}{dt} \\left(\\frac{y}{x}\\right)}{1 + \\left(\\frac{y}{x}\\right)^2} = \\frac{y(t)\\dot{x}(t) + x(t)\\dot{y}(t)}{x^2 + y^2}\n",
    "$$\n",
    "\n",
    "$$\n",
    "\n",
    "$$\n"
   ]
  }
 ],
 "metadata": {
  "language_info": {
   "name": "python"
  },
  "orig_nbformat": 4
 },
 "nbformat": 4,
 "nbformat_minor": 2
}
