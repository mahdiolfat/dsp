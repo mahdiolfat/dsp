{
 "cells": [
  {
   "cell_type": "markdown",
   "metadata": {},
   "source": [
    "## Hermitian Properties\n",
    "\n",
    "1. The nonzero eigenvectors corresponding to distinct are linearly independent.\n",
    "1. The eigenvalues of a Hermitian matrix are real.\n",
    "1. There is a unique set of orthonormal basis."
   ]
  },
  {
   "cell_type": "markdown",
   "metadata": {},
   "source": [
    "# Optimization of Real-Valued Complex Functions\n",
    "\n",
    "In the simplest case of a strictly convex scalar function $ f(x) $ of a single real variable $ x $, the *global* minimum, if it exists, must satisfy:\n",
    "\n",
    "$$\n",
    "\\begin{equation}\n",
    "{d f(x) \\over dx} = 0\n",
    "\\end{equation}\n",
    "$$\n",
    "\n",
    "$$\n",
    "\\begin{equation}\n",
    "{d^2 f(x) \\over dx^2} > 0\n",
    "\\end{equation}\n",
    "$$"
   ]
  },
  {
   "cell_type": "markdown",
   "metadata": {},
   "source": [
    "If the dependant variable is is a complex-conjugate pair, they cannot be differentiated with respect to the real variable.\n",
    "\n",
    "$ f(z) = |z|^2 $ may be treated as a function of independent variables and expressed as: $ f(z, z^*) = zz^* $.\n",
    "\n",
    "#### Theorem:\n",
    "\n",
    "if $ f(z, z^*) $ is a real-valued function of $ z $ and $ Z^* $ and if $ f(z, z^*) $ is analytic with respect to both $ z $ and $ Z^* $, then the stationary points of $ f(z, z^*) $ may be found by setting the derivative of $ f(z, z^*) $ with respect to either $ z $ or $ Z^* $ equal to zero and solving for $ z $."
   ]
  },
  {
   "cell_type": "markdown",
   "metadata": {},
   "source": [
    "For a scalar function of $ n $ real variables $ f(\\vec{x}) = f(x_1, x_2, \\dotsc, x_n) $, finding the minimum involves computing the gradient, which is the vector of derivatives:\n",
    "\n",
    "$$\n",
    "\\triangledown_x f(\\vec x) = \\frac{d}{d\\vec x} f(\\vec x) =\n",
    "\\begin{bmatrix}\n",
    "\t\\frac{\\partial}{\\partial x_1}f(\\vec x) \\\\\n",
    "\t\\vdots \\\\\n",
    "\t\\frac{\\partial}{\\partial x_n}f(\\vec x)\n",
    "\\end{bmatrix}\n",
    "$$\n",
    "\n",
    "Fo a point $ \\vec x $ to be stationary, $ \\triangledown_x f(\\vec x) = 0 $\n",
    "\n",
    "For this point to be a minimum, the Hessian matrix, $ \\bold{H}_x $, must be positive definite. $ \\bold{H}_x $ is an $ n \\times n $ of second-order partial derivatives with the $ (i, j) $th element given by:\n",
    "\n",
    "$$\n",
    "\\left\\lbrace \\bold{H}_x \\right\\rbrace _{i, j} =\n",
    "\\partial^2 f(\\vec x) \\over {\\partial x_i \\partial x_j}\n",
    "$$"
   ]
  },
  {
   "cell_type": "markdown",
   "metadata": {},
   "source": [
    "#### Theorem\n",
    "\n",
    "if $ f(\\vec z, {\\vec z}^*) $ is a real-valued function of the complex vectors $ \\vec z $ and $ {\\vec z}^* $, then the vector pointing in the direction of the maximum rate of change of $ f(\\vec z, {\\vec z}^*) $ is $ \\triangledown_{{\\vec z}^*} f(\\vec z, {\\vec z}^*) $, which is the derivative of $ f(\\vec z, {\\vec z}^*) $ with respect to $ {\\vec z}^* $."
   ]
  },
  {
   "cell_type": "markdown",
   "metadata": {},
   "source": [
    "Hence, the stationary points of $ f(\\vec z, {\\vec z}^*) $ are solutions to the equation \n",
    "$$\n",
    "\\triangledown_{{\\vec{z}}^*} f(\\vec z, {\\vec z}^*) = 0\n",
    "$$"
   ]
  },
  {
   "cell_type": "markdown",
   "metadata": {},
   "source": [
    "## Quadratic Minimization"
   ]
  },
  {
   "cell_type": "markdown",
   "metadata": {},
   "source": [
    "\n",
    "Let $ \\underbar{z} $ be a complex vector and $ \\underbar{R} $ a positive-definite Hermitian matrix.\n",
    "\n",
    "The optimization problem is as follows:\n",
    "\n",
    "$$\n",
    "\\begin{align}\n",
    "\\text{find}\\ & \\underbar{z} \\\\\n",
    "\\text{that minimizes}\\ & \\underbar{z}^H \\underbar{R} \\underbar{z} \\\\\n",
    "\\text{subject to}\\ & \\underbar{z}^H \\underbar{a}\n",
    "\\end{align}\n",
    "$$\n",
    "\n",
    "Introduce a Lagrange multiplier $ \\lambda $ and minimize the unconstrained objective function:\n",
    "\n",
    "$$\n",
    "Q_R (\\underbar{z}, \\lambda) = \\frac{1}{2} \\underbar{z}^H \\underbar{R} \\underbar{z} + \\lambda (1 - \\underbar{z}^H \\underbar{a})\n",
    "$$"
   ]
  },
  {
   "cell_type": "markdown",
   "metadata": {},
   "source": [
    "Set $ \\triangledown_{{\\vec z}^*} f(\\vec z, {\\vec z}^*) $ to zero.\n",
    "\n",
    "$$\n",
    "\\triangledown_{{\\vec z}^*} Q_R (\\underbar z, \\lambda) = \\underbar R \\underbar z - \\lambda \\underbar a = 0\n",
    "$$\n",
    "\n",
    "$$\n",
    "\\underbar z = \\lambda \\underbar R^{-1} \\underbar a\n",
    "$$"
   ]
  },
  {
   "cell_type": "markdown",
   "metadata": {},
   "source": [
    "To find the value of the Lagrange multiplier:\n",
    "\n",
    "$$\n",
    "\\frac{\\partial{Q_R (\\underbar z, \\lambda)}}{\\partial \\lambda} = 1 - \\underbar{z}^H \\underbar a\n",
    "$$\n",
    "\n",
    "$$\n",
    "\\lambda = {1 \\over \\underbar{a}^H \\underbar{R}^{-1} \\underbar a}\n",
    "$$\n",
    "\n",
    "$$\n",
    "\\underbar z = {\\underbar{R}^{-1} \\underbar a \\over \\underbar{a}^H \\underbar{R}^{-1} \\underbar a}\n",
    "$$\n",
    "\n",
    "The minimum value of $ \\underbar{z}^H \\underbar{R} \\underbar{z} $ is\n",
    "\n",
    "$$\n",
    "\\underset{\\underbar z}{\\text{min}}\n",
    "\\left\\lbrace \\underbar{z}^H \\underbar{R} \\underbar{z} \\right\\rbrace =\n",
    "\\frac{\\underbar{z}^H \\underbar {a}}\n",
    "{\\underbar{a}^H \\underbar{R}^{-1} \\underbar a} =\n",
    "\\frac{1}\n",
    "{\\underbar{a}^H \\underbar{R}^{-1} \\underbar a}\n",
    " $$"
   ]
  }
 ],
 "metadata": {
  "language_info": {
   "name": "python"
  },
  "orig_nbformat": 4
 },
 "nbformat": 4,
 "nbformat_minor": 2
}
