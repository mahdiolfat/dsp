{
 "cells": [
  {
   "cell_type": "code",
   "execution_count": null,
   "metadata": {},
   "outputs": [],
   "source": [
    "# Legends of Engineering\n",
    "\n",
    "## Who qualifies?\n",
    "\n"
   ]
  },
  {
   "cell_type": "markdown",
   "metadata": {},
   "source": [
    "- Bode\n",
    "- Tukey\n",
    "- Fisher\n",
    "- Arnold Avlonksi\n",
    "- Kolomogov\n",
    "- Shannon\n",
    "- Wiener\n",
    "- Gibbs\n",
    "- Rao\n",
    "- Fourier\n",
    "- Nikola Tesla:\n",
    "Instead of focusing on his personal pecularities, like whether or not he was actually in love with a pigeon, we are going to try to explore the practical insight and the theoretic foresight his most famous invention reveleas.\n",
    "- John-Vonn Neumann\n",
    "- Feynman\n",
    "- Chaos Theory Guys\n",
    "Connection between Fourier Transforms and Statistical Inference\n",
    "  - an autocorellation, a triangle, and a trick (statistics, scaling, fft and computational complexity)\n",
    "\n",
    "- Leonardo: did he fly?\n",
    "You might have heard about his design of flying machines, including sketches and musings about its inner workings. But woulld an honest implementation of his flying machine actually work?"
   ]
  }
 ],
 "metadata": {
  "language_info": {
   "name": "python"
  },
  "orig_nbformat": 4
 },
 "nbformat": 4,
 "nbformat_minor": 2
}
