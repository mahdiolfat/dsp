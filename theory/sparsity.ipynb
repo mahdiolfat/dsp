{
 "cells": [
  {
   "cell_type": "code",
   "execution_count": null,
   "metadata": {},
   "outputs": [],
   "source": [
    "import numpy as np\n",
    "import matplotlib"
   ]
  },
  {
   "cell_type": "markdown",
   "metadata": {},
   "source": [
    "## Signal Model\n",
    "\n",
    "A signal of any dimension is assumed to be given as $ x(n) $ of length-N, where $ x $ is real-valued and indexed by $ n $ where $ n \\isin \\lbrace{1, 2, \\mathellipsis, N \\rbrace} $.\n"
   ]
  },
  {
   "cell_type": "markdown",
   "metadata": {},
   "source": [
    "## Sparse Representation\n",
    "\n",
    "We assume that a $ x(n) $ is well represented in the basis $ \\Psi = [\\psi_1, \\psi_2, \\mathellipsis, \\psi_N] $\n",
    "\n",
    "To represented $ x(n) $ as a *K*-sparse signal in the basis, we may write:\n",
    "\n",
    "$$ x(n) = \\sum_{ n = 1 }^{N}{\\theta(n)\\psi_n} = \\sum_{\\ell = 1} ^ {K}{\\theta(n_{\\ell})}\\psi_{n_\\ell} $$\n",
    "\n",
    "In matrix form, this is simply:\n",
    "\n",
    "$$ x = \\Psi \\theta $$"
   ]
  },
  {
   "cell_type": "markdown",
   "metadata": {},
   "source": []
  },
  {
   "cell_type": "markdown",
   "metadata": {},
   "source": [
    "## Incoherency of Basis\n",
    "\n",
    "### Incoherent Projections"
   ]
  },
  {
   "cell_type": "markdown",
   "metadata": {},
   "source": [
    "## Compressive Sensing"
   ]
  },
  {
   "cell_type": "markdown",
   "metadata": {},
   "source": [
    "## Signal Synthesis\n",
    "\n",
    "Recovery methods based on $ \\ell_0 $ Optimization, $ \\ell_1 $ Optimization.\n",
    "\n",
    "## Basis Pursuit Optimization\n",
    "\n",
    "- Linear-Programming vs. Greedy Alogorithms\n",
    "- Orthogonal Matching Pursuit (OMP)\n",
    "- Tree Matching Pursuit"
   ]
  },
  {
   "cell_type": "markdown",
   "metadata": {},
   "source": [
    "## Related Terms:\n",
    "\n",
    "Compressive Sensing, CS, "
   ]
  }
 ],
 "metadata": {
  "language_info": {
   "name": "python"
  },
  "orig_nbformat": 4
 },
 "nbformat": 4,
 "nbformat_minor": 2
}
