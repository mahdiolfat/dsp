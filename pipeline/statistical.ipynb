{
 "cells": [
  {
   "cell_type": "code",
   "execution_count": 23,
   "metadata": {},
   "outputs": [],
   "source": [
    "import numpy as np\n",
    "import matplotlib.pyplot as plt"
   ]
  },
  {
   "cell_type": "markdown",
   "metadata": {},
   "source": [
    "## Utility Functions"
   ]
  },
  {
   "cell_type": "code",
   "execution_count": 128,
   "metadata": {},
   "outputs": [],
   "source": [
    "def convm(x, p):\n",
    "    '''Convolution Matrix\n",
    "    (N + p - 1) by p non-symmetric Toeplitz matrix\n",
    "    '''\n",
    "    N = len(x) + 2 * p - 2\n",
    "    # the signal centered over its support\n",
    "    # needed for the signal information-preserving frequency spectrum\n",
    "    xpad = np.concatenate((np.zeros(p-1), x, np.zeros(p-1)))\n",
    "    X = np.empty([len(x) + p - 1, p])\n",
    "    for i in range(p):\n",
    "        X[:, i] = xpad[p - i - 1:N - i]\n",
    "    return X\n",
    "\n",
    "def covar(x, p):\n",
    "    '''Covariance Matrix\n",
    "    p x p hermitian toeplitz matrix of sample covariances\n",
    "    '''\n",
    "\n",
    "    m = len(x)\n",
    "    # remove the mean\n",
    "    x = x - np.mean(x)\n",
    "    R = np.transpose(convm(x, p + 1)) @ convm(x, p+1) / (m - 1)\n",
    "    return R"
   ]
  },
  {
   "cell_type": "code",
   "execution_count": 129,
   "metadata": {},
   "outputs": [
    {
     "name": "stdout",
     "output_type": "stream",
     "text": [
      "(6, 4)\n"
     ]
    },
    {
     "ename": "ValueError",
     "evalue": "could not broadcast input array from shape (5,) into shape (6,)",
     "output_type": "error",
     "traceback": [
      "\u001b[1;31m---------------------------------------------------------------------------\u001b[0m",
      "\u001b[1;31mValueError\u001b[0m                                Traceback (most recent call last)",
      "Cell \u001b[1;32mIn[129], line 3\u001b[0m\n\u001b[0;32m      1\u001b[0m x \u001b[39m=\u001b[39m np\u001b[39m.\u001b[39marray([\u001b[39m1\u001b[39m, \u001b[39m3\u001b[39m, \u001b[39m2\u001b[39m])\n\u001b[0;32m      2\u001b[0m p \u001b[39m=\u001b[39m \u001b[39m4\u001b[39m\n\u001b[1;32m----> 3\u001b[0m X \u001b[39m=\u001b[39m convm(x, p)\n\u001b[0;32m      4\u001b[0m \u001b[39mprint\u001b[39m(X\u001b[39m.\u001b[39mshape)\n\u001b[0;32m      5\u001b[0m \u001b[39mprint\u001b[39m(X)\n",
      "Cell \u001b[1;32mIn[128], line 12\u001b[0m, in \u001b[0;36mconvm\u001b[1;34m(x, p)\u001b[0m\n\u001b[0;32m     10\u001b[0m \u001b[39mprint\u001b[39m(X\u001b[39m.\u001b[39mshape)\n\u001b[0;32m     11\u001b[0m \u001b[39mfor\u001b[39;00m i \u001b[39min\u001b[39;00m \u001b[39mrange\u001b[39m(\u001b[39m1\u001b[39m, p \u001b[39m+\u001b[39m \u001b[39m1\u001b[39m):\n\u001b[1;32m---> 12\u001b[0m     X[:, i] \u001b[39m=\u001b[39m xpad[p \u001b[39m-\u001b[39m i \u001b[39m+\u001b[39m \u001b[39m1\u001b[39m:N \u001b[39m-\u001b[39m i \u001b[39m+\u001b[39m \u001b[39m2\u001b[39m]\n\u001b[0;32m     13\u001b[0m \u001b[39mreturn\u001b[39;00m X\n",
      "\u001b[1;31mValueError\u001b[0m: could not broadcast input array from shape (5,) into shape (6,)"
     ]
    }
   ],
   "source": [
    "x = np.array([1, 3, 2])\n",
    "p = 4\n",
    "X = convm(x, p)\n",
    "print(X.shape)\n",
    "print(X)\n",
    "R = covar(x, p)\n",
    "print(R.shape)\n",
    "print(R)"
   ]
  },
  {
   "cell_type": "markdown",
   "metadata": {},
   "source": [
    "## Determinist Signal Modeling\n"
   ]
  },
  {
   "cell_type": "code",
   "execution_count": null,
   "metadata": {},
   "outputs": [],
   "source": [
    "def pade(x, p, q):\n",
    "    '''\n",
    "    Reference Page 138, Table 4.1\n",
    "    The Pade approximation models a signal as the unis sample response\n",
    "    of linear shift invariant system have p poles and q zeros.\n",
    "    '''\n",
    "    if p + q > len(x):\n",
    "        raise ValueError(f\"Model order {p + q} is too large.\")\n",
    "\n",
    "    X = convm(x, p + 1)\n",
    "\n",
    "    # Complete linear difference matrix\n",
    "    Xq = X[q + 1 : q + p, 1:p]\n",
    "    a = np.divide(-Xq, X[q + 1: q + p, 0])\n",
    "    print(a.shape)\n",
    "    a = np.vstack([[[1]], a])\n",
    "    print(a.shape)\n",
    "    b = X[:q, :p] @ a\n",
    "\n",
    "    return (a, b)"
   ]
  },
  {
   "cell_type": "code",
   "execution_count": null,
   "metadata": {},
   "outputs": [
    {
     "name": "stdout",
     "output_type": "stream",
     "text": [
      "(1, 1)\n",
      "(2, 1)\n",
      "(array([[ 1.        ],\n",
      "       [-0.66666667]]), array([[1.]]))\n",
      "(0, 0)\n"
     ]
    },
    {
     "ename": "ValueError",
     "evalue": "all the input array dimensions except for the concatenation axis must match exactly, but along dimension 1, the array at index 0 has size 1 and the array at index 1 has size 0",
     "output_type": "error",
     "traceback": [
      "\u001b[1;31m---------------------------------------------------------------------------\u001b[0m",
      "\u001b[1;31mValueError\u001b[0m                                Traceback (most recent call last)",
      "Cell \u001b[1;32mIn[101], line 5\u001b[0m\n\u001b[0;32m      3\u001b[0m x20 \u001b[39m=\u001b[39m pade(x, \u001b[39m2\u001b[39m, \u001b[39m0\u001b[39m)\n\u001b[0;32m      4\u001b[0m \u001b[39mprint\u001b[39m(x20)\n\u001b[1;32m----> 5\u001b[0m x02 \u001b[39m=\u001b[39m pade(x, \u001b[39m0\u001b[39;49m, \u001b[39m2\u001b[39;49m)\n\u001b[0;32m      6\u001b[0m x11 \u001b[39m=\u001b[39m pade(x, \u001b[39m1\u001b[39m, \u001b[39m1\u001b[39m)\n\u001b[0;32m      8\u001b[0m \u001b[39mprint\u001b[39m(x02)\n",
      "Cell \u001b[1;32mIn[98], line 16\u001b[0m, in \u001b[0;36mpade\u001b[1;34m(x, p, q)\u001b[0m\n\u001b[0;32m     14\u001b[0m a \u001b[39m=\u001b[39m np\u001b[39m.\u001b[39mdivide(\u001b[39m-\u001b[39mXq, X[q \u001b[39m+\u001b[39m \u001b[39m1\u001b[39m: q \u001b[39m+\u001b[39m p, \u001b[39m0\u001b[39m])\n\u001b[0;32m     15\u001b[0m \u001b[39mprint\u001b[39m(a\u001b[39m.\u001b[39mshape)\n\u001b[1;32m---> 16\u001b[0m a \u001b[39m=\u001b[39m np\u001b[39m.\u001b[39;49mvstack([[[\u001b[39m1\u001b[39;49m]], a])\n\u001b[0;32m     17\u001b[0m \u001b[39mprint\u001b[39m(a\u001b[39m.\u001b[39mshape)\n\u001b[0;32m     18\u001b[0m b \u001b[39m=\u001b[39m X[:q \u001b[39m+\u001b[39m \u001b[39m1\u001b[39m, :p] \u001b[39m@\u001b[39m a\n",
      "File \u001b[1;32m<__array_function__ internals>:200\u001b[0m, in \u001b[0;36mvstack\u001b[1;34m(*args, **kwargs)\u001b[0m\n",
      "File \u001b[1;32mc:\\Users\\mahdi\\AppData\\Local\\Programs\\Python\\Python311\\Lib\\site-packages\\numpy\\core\\shape_base.py:296\u001b[0m, in \u001b[0;36mvstack\u001b[1;34m(tup, dtype, casting)\u001b[0m\n\u001b[0;32m    294\u001b[0m \u001b[39mif\u001b[39;00m \u001b[39mnot\u001b[39;00m \u001b[39misinstance\u001b[39m(arrs, \u001b[39mlist\u001b[39m):\n\u001b[0;32m    295\u001b[0m     arrs \u001b[39m=\u001b[39m [arrs]\n\u001b[1;32m--> 296\u001b[0m \u001b[39mreturn\u001b[39;00m _nx\u001b[39m.\u001b[39;49mconcatenate(arrs, \u001b[39m0\u001b[39;49m, dtype\u001b[39m=\u001b[39;49mdtype, casting\u001b[39m=\u001b[39;49mcasting)\n",
      "File \u001b[1;32m<__array_function__ internals>:200\u001b[0m, in \u001b[0;36mconcatenate\u001b[1;34m(*args, **kwargs)\u001b[0m\n",
      "\u001b[1;31mValueError\u001b[0m: all the input array dimensions except for the concatenation axis must match exactly, but along dimension 1, the array at index 0 has size 1 and the array at index 1 has size 0"
     ]
    }
   ],
   "source": [
    "x = np.array([1, 1.5, 0.75, 0.375, 0.1875, 0.0938])\n",
    "\n",
    "x20 = pade(x, 2, 0)\n",
    "print(x20)\n",
    "x02 = pade(x, 0, 2)\n",
    "x11 = pade(x, 1, 1)\n",
    "\n",
    "print(x02)\n",
    "print(x11)"
   ]
  },
  {
   "cell_type": "code",
   "execution_count": null,
   "metadata": {},
   "outputs": [],
   "source": [
    "def back_substitution(x, p):\n",
    "    '''Convinient recursion for an all-pole model.'''\n",
    "    pass\n",
    "\n",
    "def prony(x, p, q) -> None:\n",
    "    pass\n",
    "\n",
    "def shanks(x, p, q) -> None:\n",
    "    pass\n",
    "\n",
    "def ipf(x, p, q):\n",
    "    pass\n",
    "\n",
    "def acm(x, p):\n",
    "    pass\n",
    "\n",
    "def covm(x, p):\n",
    "    pass\n",
    "\n",
    "def acm(x, p):\n",
    "    pass\n",
    "\n",
    "def durbin(x, p, q):\n",
    "    pass\n"
   ]
  },
  {
   "cell_type": "code",
   "execution_count": null,
   "metadata": {},
   "outputs": [],
   "source": [
    "def spike(g, n0, n):\n",
    "    '''Leaset Squares Inverse Filter'''\n",
    "    pass"
   ]
  },
  {
   "cell_type": "markdown",
   "metadata": {},
   "source": [
    "## Levinson Recursion"
   ]
  },
  {
   "cell_type": "code",
   "execution_count": null,
   "metadata": {},
   "outputs": [],
   "source": [
    "def rtoa(r):\n",
    "    pass\n",
    "\n",
    "def rtog(r):\n",
    "    pass\n",
    "\n",
    "def atog(r):\n",
    "    pass\n",
    "\n",
    "def gtoa(r):\n",
    "    pass"
   ]
  },
  {
   "cell_type": "code",
   "execution_count": null,
   "metadata": {},
   "outputs": [],
   "source": [
    "def gtor(gamma, epsilon):\n",
    "    pass\n",
    "\n",
    "def ator(gamma, epsilon):\n",
    "    pass"
   ]
  },
  {
   "cell_type": "code",
   "execution_count": null,
   "metadata": {},
   "outputs": [],
   "source": [
    "def glev(r, b):\n",
    "    '''General Levinson Recursion'''\n",
    "    pass"
   ]
  },
  {
   "cell_type": "markdown",
   "metadata": {},
   "source": [
    "## Lattice Filters"
   ]
  },
  {
   "cell_type": "code",
   "execution_count": null,
   "metadata": {},
   "outputs": [],
   "source": [
    "def fcov(x, p):\n",
    "    pass\n",
    "\n",
    "def burg(x, p):\n",
    "    pass\n",
    "\n",
    "def mcov(x, p):\n",
    "    pass"
   ]
  },
  {
   "cell_type": "markdown",
   "metadata": {},
   "source": [
    "## Optimum Filters\n"
   ]
  },
  {
   "cell_type": "code",
   "execution_count": null,
   "metadata": {},
   "outputs": [],
   "source": [
    "def denoiser_wiener_fir(x, v):\n",
    "    pass"
   ]
  },
  {
   "cell_type": "code",
   "execution_count": null,
   "metadata": {},
   "outputs": [],
   "source": [
    "def kalman(x):\n",
    "    pass"
   ]
  },
  {
   "cell_type": "markdown",
   "metadata": {},
   "source": [
    "## Spectrum Estimation"
   ]
  },
  {
   "cell_type": "code",
   "execution_count": null,
   "metadata": {},
   "outputs": [],
   "source": [
    "def periodogram(x):\n",
    "    pass\n",
    "\n",
    "def overlay(N, omega, A, sigma, num):\n",
    "    '''Calculates the periodogram using an ensemble of realizations'''\n",
    "    pass\n",
    "\n",
    "def mper(x, win, n1, n2):\n",
    "    '''Modified Periodogram'''\n",
    "    pass\n",
    "\n",
    "def bart(x, nsect):\n",
    "    '''Bartlett method of non-paramteric spectrum estimation'''\n",
    "    pass\n",
    "\n",
    "def welch(x, L, over, win):\n",
    "    pass\n",
    "\n",
    "def per_smooth(x, win, M, n1, n2):\n",
    "    '''Blackman-Tukey method of non-parametric spectrum estimation'''\n",
    "    pass\n",
    "\n",
    "def minvar(x, p):\n",
    "    '''Minimum Variance spectrum estimation'''\n",
    "    pass\n",
    "\n",
    "def mem(x, p):\n",
    "    '''Maximum Entropy spectrum estimation'''\n",
    "    pass\n",
    "\n",
    "def modebased(x, p, q):\n",
    "    pass\n"
   ]
  },
  {
   "cell_type": "markdown",
   "metadata": {},
   "source": [
    "### Frequency Estimation"
   ]
  },
  {
   "cell_type": "code",
   "execution_count": null,
   "metadata": {},
   "outputs": [],
   "source": [
    "def phd(x, p):\n",
    "    '''Pisarenko Harmonic Decomposition'''\n",
    "    pass\n",
    "\n",
    "def music(x, p, M):\n",
    "    pass\n",
    "\n",
    "def min_norm(x, p, M):\n",
    "    pass\n",
    "\n"
   ]
  },
  {
   "cell_type": "markdown",
   "metadata": {},
   "source": [
    "## Principle Component Analysis (PCA) Methods"
   ]
  },
  {
   "cell_type": "code",
   "execution_count": null,
   "metadata": {},
   "outputs": [],
   "source": [
    "def pca_bt(x, p, M):\n",
    "    pass\n",
    "\n",
    "def pca_mv(x, p, M):\n",
    "    pass\n",
    "\n",
    "def pca_mem(x, p, M):\n",
    "    pass"
   ]
  },
  {
   "cell_type": "markdown",
   "metadata": {},
   "source": [
    "## Adaptive Filtering"
   ]
  },
  {
   "cell_type": "code",
   "execution_count": null,
   "metadata": {},
   "outputs": [],
   "source": [
    "def lms(x, d, mu, nord, a0):\n",
    "    '''LMS Adaptive Filter'''\n",
    "    pass\n",
    "\n",
    "def nlms(x, d, mu, nord, a0):\n",
    "    '''Normalized LMS Adaptive Filter'''\n",
    "    pass\n",
    "\n",
    "def rls(x, d, lamda, nord):\n",
    "    '''Recursive Least Squares'''\n",
    "    pass"
   ]
  }
 ],
 "metadata": {
  "kernelspec": {
   "display_name": "Python 3",
   "language": "python",
   "name": "python3"
  },
  "language_info": {
   "codemirror_mode": {
    "name": "ipython",
    "version": 3
   },
   "file_extension": ".py",
   "mimetype": "text/x-python",
   "name": "python",
   "nbconvert_exporter": "python",
   "pygments_lexer": "ipython3",
   "version": "3.11.3"
  },
  "orig_nbformat": 4
 },
 "nbformat": 4,
 "nbformat_minor": 2
}
