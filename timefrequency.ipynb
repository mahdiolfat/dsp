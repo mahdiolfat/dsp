{
 "cells": [
  {
   "cell_type": "markdown",
   "metadata": {},
   "source": [
    "The nonlinear tip-sample interaction gives rise to higher harmonics of the drive frequency in the detected tip motion signal."
   ]
  },
  {
   "cell_type": "markdown",
   "metadata": {},
   "source": [
    "The higher harmonics contain detailed information about the tip-sample interaction."
   ]
  },
  {
   "cell_type": "markdown",
   "metadata": {},
   "source": [
    "The magnitude scalogram is a commonly used time-frequencyanalysis method in the AWT."
   ]
  }
 ],
 "metadata": {
  "kernelspec": {
   "display_name": "Python 3.9.5 64-bit",
   "language": "python",
   "name": "python3"
  },
  "language_info": {
   "name": "python",
   "version": "3.9.13"
  },
  "orig_nbformat": 4,
  "vscode": {
   "interpreter": {
    "hash": "9887f6c7be016c00437bb31ecb0e171117dcb397ce4e86ba8c87f524ffd9fd3a"
   }
  }
 },
 "nbformat": 4,
 "nbformat_minor": 2
}
