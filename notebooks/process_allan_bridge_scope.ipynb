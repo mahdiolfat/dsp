{
 "cells": [
  {
   "cell_type": "code",
   "execution_count": 3,
   "metadata": {},
   "outputs": [],
   "source": [
    "import numpy as np\n",
    "import pandas as pd"
   ]
  },
  {
   "cell_type": "code",
   "execution_count": 247,
   "metadata": {},
   "outputs": [],
   "source": [
    "def load_data(path, headers=None, skiprows=0):\n",
    "\tdata = pd.read_csv(path, skiprows=skiprows)\n",
    "\ttime = np.ravel(data[data.columns[0]].to_numpy())\n",
    "\tsig = np.ravel(data[data.columns[1]].to_numpy())\n",
    "\treturn time, sig\n"
   ]
  },
  {
   "cell_type": "code",
   "execution_count": 248,
   "metadata": {},
   "outputs": [
    {
     "name": "stdout",
     "output_type": "stream",
     "text": [
      "sig=[ 0.00195712  0.00090612 -0.00127753 ...  0.00290539 -0.00058213\n",
      " -0.00084817],mean=0.0018536768788578024\n"
     ]
    }
   ],
   "source": [
    "file = \"noise/0x9_off.csv\"\n",
    "dtime, dsignal = load_data(file, skiprows=22)\n",
    "t0 = np.mean(np.ediff1d(dtime))\n",
    "fs = 1 / t0\n",
    "t0 = round(t0, 10)\n",
    "fs = round(fs, 10)\n",
    "print(f'sig={dsignal},mean={np.mean(dsignal)}')"
   ]
  },
  {
   "cell_type": "markdown",
   "metadata": {},
   "source": [
    "$$\n",
    "\\sigma^2(\\tau) = \\frac{1}{2 \\tau^2 (L-2m)}\\sum_{k=1}^{L-2m}(\\theta_{k+2m} - 2 \\theta_{k+m} + \\theta_{k})^2\n",
    "$$"
   ]
  },
  {
   "cell_type": "code",
   "execution_count": 359,
   "metadata": {},
   "outputs": [],
   "source": [
    "import matplotlib.pyplot as plt\n",
    "\n",
    "def overlapped_allan_variance(sig, t0, maxNumM=10000):\n",
    "\tprint(f'sig={sig}')\n",
    "\tprint(np.all(sig > 0))\n",
    "\tL = len(sig)\n",
    "\tsense = np.cumsum(sig)\n",
    "\tmaxM = L // 2 - 1 #2**np.floor(np.log2(L//2))\n",
    "\tprint(f'L={L}')\n",
    "\tprint()\n",
    "\tprint(f'maxM={maxM}')\n",
    "\tprint()\n",
    "\tprint(f'sense={sense}')\n",
    "\tprint()\n",
    "\tprint(f't0={t0}')\n",
    "\t#m = np.logspace(np.log10(1), np.log10(maxM), maxNumM)\n",
    "\tm = np.linspace(1, maxM - 1, maxM + 1)\n",
    "\t#m = np.ceil(m)\n",
    "\t#m = np.unique(m)\n",
    "\tprint(f'm={m}')\n",
    "\tprint()\n",
    "\ttau = m * t0\n",
    "\n",
    "\tprint(f'tau={tau}')\n",
    "\tprint()\n",
    "\tplt.figure()\n",
    "\tplt.plot(sense)\n",
    "\t#plt.figure()\n",
    "\t#plt.plot(tau)\n",
    "\n",
    "\tavar = np.zeros(m.size)\n",
    "\t#L = 2 * int(maxM)\n",
    "\t#L = maxM * 2 + 1\n",
    "\tfor i in range(m.size):\n",
    "\t\tmi = int(m[i])\n",
    "\t\tavar[i] = np.sum((sense[2*mi:L]- 2*sense[mi:L-mi] + sense[:L-2*mi])**2)\n",
    "\t\t#avar[i] = np.sum((sense[mi:L] - sense[:L-mi])**2)\n",
    "\n",
    "\tavar /= (2*tau**2 * (L-2*m))\n",
    "\t#avar /= 2 * (L-2*m)\n",
    "\n",
    "\treturn tau, avar"
   ]
  },
  {
   "cell_type": "code",
   "execution_count": 360,
   "metadata": {},
   "outputs": [
    {
     "name": "stdout",
     "output_type": "stream",
     "text": [
      "sig=[ 0.00195712  0.00408019  0.00519968 ...  0.0036324   0.00302919\n",
      " -0.00058213]\n",
      "False\n",
      "L=80001\n",
      "\n",
      "maxM=39999\n",
      "\n",
      "sense=[1.95712300e-03 6.03731600e-03 1.12369930e-02 ... 1.50362903e+02\n",
      " 1.50365932e+02 1.50365350e+02]\n",
      "\n",
      "t0=0.001\n",
      "m=[1.00000000e+00 1.99995000e+00 2.99990000e+00 ... 3.99960001e+04\n",
      " 3.99970001e+04 3.99980000e+04]\n",
      "\n",
      "tau=[1.00000000e-03 1.99995000e-03 2.99990000e-03 ... 3.99960001e+01\n",
      " 3.99970001e+01 3.99980000e+01]\n",
      "\n"
     ]
    },
    {
     "data": {
      "text/plain": [
       "[<matplotlib.lines.Line2D at 0x19a36443910>]"
      ]
     },
     "execution_count": 360,
     "metadata": {},
     "output_type": "execute_result"
    },
    {
     "data": {
      "image/png": "[encoded data removed]",
      "text/plain": [
       "<Figure size 432x288 with 1 Axes>"
      ]
     },
     "metadata": {
      "needs_background": "light"
     },
     "output_type": "display_data"
    },
    {
     "data": {
      "image/png": "[encoded data removed]",
      "text/plain": [
       "<Figure size 432x288 with 1 Axes>"
      ]
     },
     "metadata": {
      "needs_background": "light"
     },
     "output_type": "display_data"
    }
   ],
   "source": [
    "tau, avar = overlapped_allan_variance(dsignal.copy()[::10], t0*10)\n",
    "adev = np.sqrt(avar)\n",
    "plt.figure()\n",
    "plt.grid()\n",
    "plt.xscale('log')\n",
    "plt.yscale('log')\n",
    "plt.plot(tau, adev, color='b')"
   ]
  }
 ],
 "metadata": {
  "interpreter": {
   "hash": "9887f6c7be016c00437bb31ecb0e171117dcb397ce4e86ba8c87f524ffd9fd3a"
  },
  "kernelspec": {
   "display_name": "Python 3.9.5 64-bit",
   "language": "python",
   "name": "python3"
  },
  "language_info": {
   "codemirror_mode": {
    "name": "ipython",
    "version": 3
   },
   "file_extension": ".py",
   "mimetype": "text/x-python",
   "name": "python",
   "nbconvert_exporter": "python",
   "pygments_lexer": "ipython3",
   "version": "3.9.5"
  },
  "orig_nbformat": 4
 },
 "nbformat": 4,
 "nbformat_minor": 2
}
